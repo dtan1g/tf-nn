{
 "cells": [
  {
   "cell_type": "raw",
   "metadata": {},
   "source": [
    "TENSORLOW EXAMPLE: NEURAL NETWORK"
   ]
  },
  {
   "cell_type": "code",
   "execution_count": 1,
   "metadata": {
    "collapsed": true
   },
   "outputs": [],
   "source": [
    "import numpy as np\n",
    "import tensorflow as tf\n",
    "import matplotlib.pyplot as plt"
   ]
  },
  {
   "cell_type": "code",
   "execution_count": 2,
   "metadata": {},
   "outputs": [
    {
     "name": "stdout",
     "output_type": "stream",
     "text": [
      "Extracting MNIST_data\\train-images-idx3-ubyte.gz\n",
      "Extracting MNIST_data\\train-labels-idx1-ubyte.gz\n",
      "Extracting MNIST_data\\t10k-images-idx3-ubyte.gz\n",
      "Extracting MNIST_data\\t10k-labels-idx1-ubyte.gz\n"
     ]
    }
   ],
   "source": [
    "# Read in data\n",
    "from tensorflow.examples.tutorials.mnist import input_data\n",
    "mnist = input_data.read_data_sets('MNIST_data', one_hot=True)"
   ]
  },
  {
   "cell_type": "code",
   "execution_count": 3,
   "metadata": {
    "collapsed": true
   },
   "outputs": [],
   "source": [
    "def TRAIN_SIZE(num):\n",
    "    print ('Total Training Images in Dataset = ' + str(mnist.train.images.shape))\n",
    "    print ('--------------------------------------------------')\n",
    "    x_train = mnist.train.images[:num,:]\n",
    "    print ('x_train Examples Loaded = ' + str(x_train.shape))\n",
    "    y_train = mnist.train.labels[:num,:]\n",
    "    print ('y_train Examples Loaded = ' + str(y_train.shape))\n",
    "    print('')\n",
    "    return x_train, y_train\n",
    "\n",
    "def TEST_SIZE(num):\n",
    "    print ('Total Test Examples in Dataset = ' + str(mnist.test.images.shape))\n",
    "    print ('--------------------------------------------------')\n",
    "    x_test = mnist.test.images[:num,:]\n",
    "    print ('x_test Examples Loaded = ' + str(x_test.shape))\n",
    "    y_test = mnist.test.labels[:num,:]\n",
    "    print ('y_test Examples Loaded = ' + str(y_test.shape))\n",
    "    return x_test, y_test\n",
    "\n",
    "def display_train_digit(num):\n",
    "    print(Y_train[num])\n",
    "    label = Y_train[num].argmax(axis=0)\n",
    "    image = X_train[num].reshape([28,28])\n",
    "    plt.title('TRAINING Example: %d  Label: %d' % (num, label))\n",
    "    plt.imshow(image, cmap=plt.get_cmap('gray_r'))\n",
    "    plt.show()\n",
    "\n",
    "def display_test_digit(num):\n",
    "    print(Y_test[num])\n",
    "    label = Y_test[num].argmax(axis=0)\n",
    "    image = X_test[num].reshape([28,28])\n",
    "    plt.title('TESTING Example: %d  Label: %d' % (num, label))\n",
    "    plt.imshow(image, cmap=plt.get_cmap('gray_r'))\n",
    "    plt.show()\n"
   ]
  },
  {
   "cell_type": "code",
   "execution_count": 4,
   "metadata": {},
   "outputs": [
    {
     "name": "stdout",
     "output_type": "stream",
     "text": [
      "Total Training Images in Dataset = (55000, 784)\n",
      "--------------------------------------------------\n",
      "x_train Examples Loaded = (5500, 784)\n",
      "y_train Examples Loaded = (5500, 10)\n",
      "\n",
      "Total Test Examples in Dataset = (10000, 784)\n",
      "--------------------------------------------------\n",
      "x_test Examples Loaded = (1000, 784)\n",
      "y_test Examples Loaded = (1000, 10)\n"
     ]
    }
   ],
   "source": [
    "# Define parameters for the model\n",
    "X_train, Y_train = TRAIN_SIZE(5500)\n",
    "X_test, Y_test = TEST_SIZE(1000)"
   ]
  },
  {
   "cell_type": "raw",
   "metadata": {},
   "source": [
    "Tensorflow functions used:\n",
    "\n",
    "placeholder       for input data\n",
    "get_variable      gets an existing variable with these parameters or create a new one\n",
    "matmul            matrix multiplication\n",
    "nn.sigmoid        sigmoid function\n",
    "nn.softmax        softmax function\n",
    "log(x)            computes natural logarithm of x element-wise \n",
    "reduce_sum        computes the sum of elements across dimensions of a tensor\n",
    "argmax            returns the index with the largest value across axes of a tensor\n",
    "equal(x,y)        returns the truth value of (x == y) element-wise\n",
    "cast              casts a tensor to a new type\n",
    "reduce_mean       computes the mean of elements across dimensions of a tensor"
   ]
  },
  {
   "cell_type": "code",
   "execution_count": 5,
   "metadata": {
    "collapsed": true
   },
   "outputs": [],
   "source": [
    "# === THE MODEL ===\n",
    "\n",
    "# n features, k classes\n",
    "in_dim = 784\n",
    "hid_dim= 25\n",
    "out_dim = 10\n",
    "\n",
    "# Create placeholders for features and labels\n",
    "X = tf.placeholder(tf.float32, [None, in_dim])\n",
    "y = tf.placeholder(tf.float32, [None, out_dim])\n",
    "\n",
    "# Layer 1\n",
    "W1 = tf.get_variable('W1', [in_dim,hid_dim], initializer=tf.random_normal_initializer())\n",
    "b1 = tf.get_variable('b1',[1,hid_dim], initializer=tf.random_normal_initializer())\n",
    "h1 = tf.nn.sigmoid(tf.matmul(X, W1) + b1)\n",
    "\n",
    "# Layer 2\n",
    "W2 = tf.get_variable('W2', [hid_dim,out_dim], initializer=tf.random_normal_initializer())\n",
    "b2 = tf.get_variable('b2',[1,out_dim], initializer=tf.random_normal_initializer())\n",
    "h2 = tf.nn.softmax(tf.matmul(h1, W2) + b2)\n",
    "\n",
    "# output\n",
    "h = h2\n",
    "\n",
    "# For training: loss and trainer\n",
    "loss = tf.reduce_mean(-tf.reduce_sum(y * tf.log(h), reduction_indices=[1]))\n",
    "train_step = tf.train.GradientDescentOptimizer(0.01).minimize(loss)\n",
    "\n",
    "# For testing: accuracy\n",
    "prediction = tf.argmax(h,1)\n",
    "correct_prediction = tf.equal(prediction, tf.argmax(y,1))\n",
    "accuracy = tf.reduce_mean(tf.cast(correct_prediction, tf.float32))"
   ]
  },
  {
   "cell_type": "code",
   "execution_count": 6,
   "metadata": {},
   "outputs": [
    {
     "name": "stdout",
     "output_type": "stream",
     "text": [
      "After training step :  1000\n",
      "Accuracy            :  0.224\n",
      "After training step :  2000\n",
      "Accuracy            :  0.355\n",
      "After training step :  3000\n",
      "Accuracy            :  0.441\n",
      "After training step :  4000\n",
      "Accuracy            :  0.516\n",
      "After training step :  5000\n",
      "Accuracy            :  0.565\n",
      "After training step :  6000\n",
      "Accuracy            :  0.593\n",
      "After training step :  7000\n",
      "Accuracy            :  0.619\n",
      "After training step :  8000\n",
      "Accuracy            :  0.63\n",
      "After training step :  9000\n",
      "Accuracy            :  0.64\n",
      "After training step :  10000\n",
      "Accuracy            :  0.65\n"
     ]
    }
   ],
   "source": [
    "# Launch the graph\n",
    "sess = tf.Session()\n",
    "sess.run(tf.global_variables_initializer())\n",
    "    \n",
    "for i in range(10000):\n",
    "    sess.run(train_step, feed_dict={X: X_train, y: Y_train})\n",
    "    if ((i+1)%1000 == 0):\n",
    "        print('After training step : ', i+1)\n",
    "        print('Accuracy            : ', sess.run(accuracy, feed_dict={X: X_test, y: Y_test}))"
   ]
  },
  {
   "cell_type": "code",
   "execution_count": 7,
   "metadata": {},
   "outputs": [
    {
     "name": "stdout",
     "output_type": "stream",
     "text": [
      "[ 0.  0.  0.  0.  0.  0.  0.  1.  0.  0.]\n"
     ]
    },
    {
     "data": {
      "image/png": "[encoded data removed]",
      "text/plain": [
       "<matplotlib.figure.Figure at 0xbffea90>"
      ]
     },
     "metadata": {},
     "output_type": "display_data"
    },
    {
     "name": "stdout",
     "output_type": "stream",
     "text": [
      "Prediction:  7\n",
      "=================\n",
      "[ 0.  0.  1.  0.  0.  0.  0.  0.  0.  0.]\n"
     ]
    },
    {
     "data": {
      "image/png": "[encoded data removed]",
      "text/plain": [
       "<matplotlib.figure.Figure at 0xc1df550>"
      ]
     },
     "metadata": {},
     "output_type": "display_data"
    },
    {
     "name": "stdout",
     "output_type": "stream",
     "text": [
      "Prediction:  2\n",
      "=================\n",
      "[ 0.  1.  0.  0.  0.  0.  0.  0.  0.  0.]\n"
     ]
    },
    {
     "data": {
      "image/png": "[encoded data removed]",
      "text/plain": [
       "<matplotlib.figure.Figure at 0xc7a1780>"
      ]
     },
     "metadata": {},
     "output_type": "display_data"
    },
    {
     "name": "stdout",
     "output_type": "stream",
     "text": [
      "Prediction:  1\n",
      "=================\n",
      "[ 1.  0.  0.  0.  0.  0.  0.  0.  0.  0.]\n"
     ]
    },
    {
     "data": {
      "image/png": "[encoded data removed]",
      "text/plain": [
       "<matplotlib.figure.Figure at 0xcb07390>"
      ]
     },
     "metadata": {},
     "output_type": "display_data"
    },
    {
     "name": "stdout",
     "output_type": "stream",
     "text": [
      "Prediction:  0\n",
      "=================\n",
      "[ 0.  0.  0.  0.  1.  0.  0.  0.  0.  0.]\n"
     ]
    },
    {
     "data": {
      "image/png": "[encoded data removed]",
      "text/plain": [
       "<matplotlib.figure.Figure at 0xcea6710>"
      ]
     },
     "metadata": {},
     "output_type": "display_data"
    },
    {
     "name": "stdout",
     "output_type": "stream",
     "text": [
      "Prediction:  4\n",
      "=================\n",
      "[ 0.  1.  0.  0.  0.  0.  0.  0.  0.  0.]\n"
     ]
    },
    {
     "data": {
      "image/png": "[encoded data removed]",
      "text/plain": [
       "<matplotlib.figure.Figure at 0xd131cc0>"
      ]
     },
     "metadata": {},
     "output_type": "display_data"
    },
    {
     "name": "stdout",
     "output_type": "stream",
     "text": [
      "Prediction:  1\n",
      "=================\n",
      "[ 0.  0.  0.  0.  1.  0.  0.  0.  0.  0.]\n"
     ]
    },
    {
     "data": {
      "image/png": "[encoded data removed]",
      "text/plain": [
       "<matplotlib.figure.Figure at 0xd39b6a0>"
      ]
     },
     "metadata": {},
     "output_type": "display_data"
    },
    {
     "name": "stdout",
     "output_type": "stream",
     "text": [
      "Prediction:  4\n",
      "=================\n",
      "[ 0.  0.  0.  0.  0.  0.  0.  0.  0.  1.]\n"
     ]
    },
    {
     "data": {
      "image/png": "[encoded data removed]",
      "text/plain": [
       "<matplotlib.figure.Figure at 0xd60cac8>"
      ]
     },
     "metadata": {},
     "output_type": "display_data"
    },
    {
     "name": "stdout",
     "output_type": "stream",
     "text": [
      "Prediction:  9\n",
      "=================\n",
      "[ 0.  0.  0.  0.  0.  1.  0.  0.  0.  0.]\n"
     ]
    },
    {
     "data": {
      "image/png": "[encoded data removed]",
      "text/plain": [
       "<matplotlib.figure.Figure at 0xd675550>"
      ]
     },
     "metadata": {},
     "output_type": "display_data"
    },
    {
     "name": "stdout",
     "output_type": "stream",
     "text": [
      "Prediction:  2\n",
      "=================\n",
      "[ 0.  0.  0.  0.  0.  0.  0.  0.  0.  1.]\n"
     ]
    },
    {
     "data": {
      "image/png": "[encoded data removed]",
      "text/plain": [
       "<matplotlib.figure.Figure at 0xe8c3c88>"
      ]
     },
     "metadata": {},
     "output_type": "display_data"
    },
    {
     "name": "stdout",
     "output_type": "stream",
     "text": [
      "Prediction:  9\n",
      "=================\n"
     ]
    }
   ],
   "source": [
    "# Show some predictions\n",
    "Prediction = sess.run(prediction, feed_dict={X: X_test, y: Y_test})\n",
    "for i in range(10):\n",
    "    display_test_digit(i)\n",
    "    print('Prediction: ', Prediction[i])\n",
    "    print('=================')\n",
    "sess.close()"
   ]
  }
 ],
 "metadata": {
  "kernelspec": {
   "display_name": "Python 3",
   "language": "python",
   "name": "python3"
  },
  "language_info": {
   "codemirror_mode": {
    "name": "ipython",
    "version": 3
   },
   "file_extension": ".py",
   "mimetype": "text/x-python",
   "name": "python",
   "nbconvert_exporter": "python",
   "pygments_lexer": "ipython3",
   "version": "3.6.8"
  }
 },
 "nbformat": 4,
 "nbformat_minor": 2
}
